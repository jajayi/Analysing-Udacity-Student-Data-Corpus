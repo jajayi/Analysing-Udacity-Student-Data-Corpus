{
 "cells": [
  {
   "cell_type": "markdown",
   "metadata": {},
   "source": [
    "# Analysing Udacity Student Data\n",
    "\n",
    "I am carrying out this project as part of a Udacity course on data analysis. All data has been made publically available by Udacity.\n",
    "\n",
    "In order to test my ability to manipulate this project using standard python analysis libraries, I am limiting my use of external libraries such as pandas and numpy."
   ]
  },
  {
   "cell_type": "markdown",
   "metadata": {},
   "source": [
    "\n",
    "## Load Data from CSVs\n",
    "\n",
    "Initially I will read in the data from enrollments.csv, daily_engagement.csv and project_submissions.csv and store the results into data dictionaries for analysis and manipulation.\n",
    "\n",
    "enrollments.csv: Data about a random subset of Data Analyst Nanodegree students who complete\n",
    "their first project and a random subset of students who do not.\n",
    "\n",
    "daily_engagement.csv: Data about engagement within Data Analyst Nanodegree courses for each student in\n",
    "the enrollment table on each day they were enrolled. Includes a record even if\n",
    "there was no engagement that day. Includes engagement data from both the\n",
    "supporting courses for the Nanodegree program, and the corresponding freely\n",
    "available courses with the same content.\n",
    "\n",
    "project_submissions.csv: Data about submissions for Data Analyst Nanodegree projects for each student in\n",
    "the enrollment table."
   ]
  },
  {
   "cell_type": "code",
   "execution_count": 2,
   "metadata": {},
   "outputs": [],
   "source": [
    "import unicodecsv\n",
    "\n",
    "## Building readCSV function as I know I will be reading in several CSV files.\n",
    "\n",
    "def readCSV(file):\n",
    "    with open(file, 'rb') as f:\n",
    "        reader = unicodecsv.DictReader(f)\n",
    "        return list(reader)\n",
    "\n",
    "enrollments = readCSV('enrollments.csv')\n",
    "daily_engagement = readCSV('daily_engagement.csv')\n",
    "project_submissions = readCSV('project_submissions.csv')"
   ]
  },
  {
   "cell_type": "code",
   "execution_count": 5,
   "metadata": {},
   "outputs": [
    {
     "data": {
      "text/plain": [
       "OrderedDict([('account_key', '448'),\n",
       "             ('status', 'canceled'),\n",
       "             ('join_date', '2014-11-10'),\n",
       "             ('cancel_date', '2015-01-14'),\n",
       "             ('days_to_cancel', '65'),\n",
       "             ('is_udacity', 'True'),\n",
       "             ('is_canceled', 'True')])"
      ]
     },
     "execution_count": 5,
     "metadata": {},
     "output_type": "execute_result"
    }
   ],
   "source": [
    "enrollments[0]"
   ]
  },
  {
   "cell_type": "code",
   "execution_count": 6,
   "metadata": {},
   "outputs": [
    {
     "data": {
      "text/plain": [
       "OrderedDict([('acct', '0'),\n",
       "             ('utc_date', '2015-01-09'),\n",
       "             ('num_courses_visited', '1.0'),\n",
       "             ('total_minutes_visited', '11.6793745'),\n",
       "             ('lessons_completed', '0.0'),\n",
       "             ('projects_completed', '0.0')])"
      ]
     },
     "execution_count": 6,
     "metadata": {},
     "output_type": "execute_result"
    }
   ],
   "source": [
    "daily_engagement[0]"
   ]
  },
  {
   "cell_type": "code",
   "execution_count": 7,
   "metadata": {},
   "outputs": [
    {
     "data": {
      "text/plain": [
       "OrderedDict([('creation_date', '2015-01-14'),\n",
       "             ('completion_date', '2015-01-16'),\n",
       "             ('assigned_rating', 'UNGRADED'),\n",
       "             ('account_key', '256'),\n",
       "             ('lesson_key', '3176718735'),\n",
       "             ('processing_state', 'EVALUATED')])"
      ]
     },
     "execution_count": 7,
     "metadata": {},
     "output_type": "execute_result"
    }
   ],
   "source": [
    "project_submissions[0]"
   ]
  },
  {
   "cell_type": "markdown",
   "metadata": {},
   "source": [
    "## Fixing the Data Types\n",
    "\n",
    "Here I create several functions to ensure the data types are in a format that makes sense and then call them on the various data dictionaries I created earlier."
   ]
  },
  {
   "cell_type": "code",
   "execution_count": 8,
   "metadata": {},
   "outputs": [
    {
     "data": {
      "text/plain": [
       "OrderedDict([('account_key', '448'),\n",
       "             ('status', 'canceled'),\n",
       "             ('join_date', datetime.datetime(2014, 11, 10, 0, 0)),\n",
       "             ('cancel_date', datetime.datetime(2015, 1, 14, 0, 0)),\n",
       "             ('days_to_cancel', 65),\n",
       "             ('is_udacity', True),\n",
       "             ('is_canceled', True)])"
      ]
     },
     "execution_count": 8,
     "metadata": {},
     "output_type": "execute_result"
    }
   ],
   "source": [
    "from datetime import datetime as dt\n",
    "\n",
    "def parse_date(date):\n",
    "    \"\"\"Takes a date as a string, and returns a Python datetime object. \n",
    "    If there is no date given, returns None\"\"\"\n",
    "    \n",
    "    if date == '':\n",
    "        return None\n",
    "    else:\n",
    "        return dt.strptime(date, '%Y-%m-%d')\n",
    "    \n",
    "\n",
    "def parse_maybe_int(i):\n",
    "    \"\"\"Takes a string which is either an empty string or represents an integer, and returns an int or None.\"\"\"\n",
    "    if i == '':\n",
    "        return None\n",
    "    else:\n",
    "        return int(i)\n",
    "\n",
    "# Clean up the data types in the enrollments table\n",
    "for enrollment in enrollments:\n",
    "    enrollment['cancel_date'] = parse_date(enrollment['cancel_date'])\n",
    "    enrollment['days_to_cancel'] = parse_maybe_int(enrollment['days_to_cancel'])\n",
    "    enrollment['is_canceled'] = enrollment['is_canceled'] == 'True'\n",
    "    enrollment['is_udacity'] = enrollment['is_udacity'] == 'True'\n",
    "    enrollment['join_date'] = parse_date(enrollment['join_date'])\n",
    "    \n",
    "enrollments[0]"
   ]
  },
  {
   "cell_type": "code",
   "execution_count": 9,
   "metadata": {},
   "outputs": [
    {
     "data": {
      "text/plain": [
       "OrderedDict([('acct', '0'),\n",
       "             ('utc_date', datetime.datetime(2015, 1, 9, 0, 0)),\n",
       "             ('num_courses_visited', 1),\n",
       "             ('total_minutes_visited', 11.6793745),\n",
       "             ('lessons_completed', 0),\n",
       "             ('projects_completed', 0)])"
      ]
     },
     "execution_count": 9,
     "metadata": {},
     "output_type": "execute_result"
    }
   ],
   "source": [
    "# Clean up the data types in the engagement table\n",
    "for engagement_record in daily_engagement:\n",
    "    engagement_record['lessons_completed'] = int(float(engagement_record['lessons_completed']))\n",
    "    engagement_record['num_courses_visited'] = int(float(engagement_record['num_courses_visited']))\n",
    "    engagement_record['projects_completed'] = int(float(engagement_record['projects_completed']))\n",
    "    engagement_record['total_minutes_visited'] = float(engagement_record['total_minutes_visited'])\n",
    "    engagement_record['utc_date'] = parse_date(engagement_record['utc_date'])\n",
    "    \n",
    "daily_engagement[0]"
   ]
  },
  {
   "cell_type": "code",
   "execution_count": 10,
   "metadata": {},
   "outputs": [
    {
     "data": {
      "text/plain": [
       "OrderedDict([('creation_date', datetime.datetime(2015, 1, 14, 0, 0)),\n",
       "             ('completion_date', datetime.datetime(2015, 1, 16, 0, 0)),\n",
       "             ('assigned_rating', 'UNGRADED'),\n",
       "             ('account_key', '256'),\n",
       "             ('lesson_key', '3176718735'),\n",
       "             ('processing_state', 'EVALUATED')])"
      ]
     },
     "execution_count": 10,
     "metadata": {},
     "output_type": "execute_result"
    }
   ],
   "source": [
    "# Clean up the data types in the submissions table\n",
    "for submission in project_submissions:\n",
    "    submission['completion_date'] = parse_date(submission['completion_date'])\n",
    "    submission['creation_date'] = parse_date(submission['creation_date'])\n",
    "\n",
    "project_submissions[0]"
   ]
  },
  {
   "cell_type": "code",
   "execution_count": 12,
   "metadata": {},
   "outputs": [],
   "source": [
    "## Renaming the \"acct\" column in the daily_engagement table to \"account_key\"\n",
    "\n",
    "for engagement_record in daily_engagement:\n",
    "    engagement_record['account_key'] = engagement_record['acct']\n",
    "    del(engagement_record['acct'])\n",
    "    "
   ]
  },
  {
   "cell_type": "markdown",
   "metadata": {},
   "source": [
    "\n",
    "\n",
    "## Investigating the Data"
   ]
  },
  {
   "cell_type": "markdown",
   "metadata": {},
   "source": [
    "### A few questions which could lead to interesting results\n",
    "\n",
    "1. Are people who visit more courses more likely to complete more courses?\n",
    "2. Is there a relationship between the time taken to complete a course and the assigned rating?\n",
    "3. What is the average number of courses visted?\n",
    "4. How do students who pass their projects differ from those who do not?\n",
    "5. How long do students take on average to complete their projects?\n",
    "6. What is the average time spent on udacity courses?\n",
    "7. How do engagement rates vary over time?\n",
    "8. Do less engaged students cancel more?"
   ]
  },
  {
   "cell_type": "code",
   "execution_count": 11,
   "metadata": {},
   "outputs": [
    {
     "name": "stdout",
     "output_type": "stream",
     "text": [
      "No. of enrollments 1640\n",
      "No. of daily engagements 136240\n",
      "No. of project submissions 3642\n"
     ]
    }
   ],
   "source": [
    "## Finding the total number of rows and the number of unique students (account keys)\n",
    "## in each table.\n",
    "\n",
    "print(\"No. of enrollments\", len(enrollments))\n",
    "print(\"No. of daily engagements\", len(daily_engagement))\n",
    "print(\"No. of project submissions\", len(project_submissions))\n"
   ]
  },
  {
   "cell_type": "markdown",
   "metadata": {},
   "source": [
    "### Locating unique accounts"
   ]
  },
  {
   "cell_type": "code",
   "execution_count": 15,
   "metadata": {},
   "outputs": [
    {
     "name": "stdout",
     "output_type": "stream",
     "text": [
      "unique accounts in enrollments:  1302\n",
      "unique accounts in daily engagement:  1237\n",
      "unique accounts in project submissions:  743\n"
     ]
    }
   ],
   "source": [
    "##Locating unique accounts\n",
    "\n",
    "def unique_acc(table):\n",
    "    unique_accts = set()\n",
    "    for record in table:\n",
    "        unique_accts.add(record['account_key'])\n",
    "    return unique_accts\n",
    "\n",
    "print(\"unique accounts in enrollments: \", len(unique_acc(enrollments)))\n",
    "print(\"unique accounts in daily engagement: \", len(unique_acc(daily_engagement)))\n",
    "print(\"unique accounts in project submissions: \", len(unique_acc(project_submissions)))\n",
    "\n",
    "unique_engagement_acc = unique_acc(daily_engagement)"
   ]
  },
  {
   "cell_type": "markdown",
   "metadata": {},
   "source": [
    "### Missing Engagement Records\n",
    "I would expect the no. of unique engagement accounts to be the same as enrollment accounts (given I am told by the course that engagement is automatically logged once enrolled into a course, even if the student doesn't visit it)"
   ]
  },
  {
   "cell_type": "code",
   "execution_count": 21,
   "metadata": {},
   "outputs": [
    {
     "name": "stdout",
     "output_type": "stream",
     "text": [
      "OrderedDict([('account_key', '1219'), ('status', 'canceled'), ('join_date', datetime.datetime(2014, 11, 12, 0, 0)), ('cancel_date', datetime.datetime(2014, 11, 12, 0, 0)), ('days_to_cancel', 0), ('is_udacity', False), ('is_canceled', True)])\n"
     ]
    }
   ],
   "source": [
    "## To investigate why students is missing from the daily engagement table.\n",
    "\n",
    "for enrollment in enrollments:\n",
    "    student = enrollment['account_key']\n",
    "    if student not in unique_engagement_acc:\n",
    "        print(enrollment)\n",
    "        break"
   ]
  },
  {
   "cell_type": "markdown",
   "metadata": {},
   "source": [
    "The above data point shows that this student cancelled on the same day as the join date. I am making an assumption that the way in which udacity collects enrollment data - if they cancel within the same day it will not register as an enrollment but will register as an engagement. \n",
    "\n",
    "The udacity course confirms this assumption."
   ]
  },
  {
   "cell_type": "markdown",
   "metadata": {},
   "source": [
    "## Checking for More Problem Records\n",
    "\n",
    "In order to further investigate why the unique engagement accounts are different to unique enrollment accounts, calling the same loop - this time accounting for students who cancel in the same day."
   ]
  },
  {
   "cell_type": "code",
   "execution_count": 23,
   "metadata": {},
   "outputs": [
    {
     "name": "stdout",
     "output_type": "stream",
     "text": [
      "OrderedDict([('account_key', '1304'), ('status', 'canceled'), ('join_date', datetime.datetime(2015, 1, 10, 0, 0)), ('cancel_date', datetime.datetime(2015, 3, 10, 0, 0)), ('days_to_cancel', 59), ('is_udacity', True), ('is_canceled', True)])\n",
      "OrderedDict([('account_key', '1304'), ('status', 'canceled'), ('join_date', datetime.datetime(2015, 3, 10, 0, 0)), ('cancel_date', datetime.datetime(2015, 6, 17, 0, 0)), ('days_to_cancel', 99), ('is_udacity', True), ('is_canceled', True)])\n",
      "OrderedDict([('account_key', '1101'), ('status', 'current'), ('join_date', datetime.datetime(2015, 2, 25, 0, 0)), ('cancel_date', None), ('days_to_cancel', None), ('is_udacity', True), ('is_canceled', False)])\n",
      "3\n"
     ]
    }
   ],
   "source": [
    "## Finding the number of surprising data points (enrollments missing from the engagement table) that remain, if any.\n",
    "\n",
    "suprising_points = 0\n",
    "for enrollment in enrollments:\n",
    "    student = enrollment['account_key']\n",
    "\n",
    "    join_date = enrollment['join_date']\n",
    "    cancel_date = enrollment['cancel_date']\n",
    "    if student not in unique_engagement_acc and (join_date != cancel_date):\n",
    "        print(enrollment)\n",
    "        suprising_points += 1\n",
    "        \n",
    "print(suprising_points)"
   ]
  },
  {
   "cell_type": "markdown",
   "metadata": {},
   "source": [
    "Here I can see a common theme - that there are only three remaining suprising data points and they all have 'is_udacity' set to 'True'. The table_descriptions file confirms that accounts where 'is_udacity' set to 'True' are Udacity test accounts. \n",
    "\n",
    "Below I will remove these accounts."
   ]
  },
  {
   "cell_type": "code",
   "execution_count": 24,
   "metadata": {},
   "outputs": [
    {
     "data": {
      "text/plain": [
       "6"
      ]
     },
     "execution_count": 24,
     "metadata": {},
     "output_type": "execute_result"
    }
   ],
   "source": [
    "# Create a set of the account keys for all Udacity test accounts\n",
    "udacity_test_accounts = set()\n",
    "for enrollment in enrollments:\n",
    "    if enrollment['is_udacity']:\n",
    "        udacity_test_accounts.add(enrollment['account_key'])\n",
    "len(udacity_test_accounts)"
   ]
  },
  {
   "cell_type": "markdown",
   "metadata": {},
   "source": [
    "There are 6 Udacity test accounts."
   ]
  },
  {
   "cell_type": "code",
   "execution_count": 25,
   "metadata": {},
   "outputs": [],
   "source": [
    "def remove_udacity_accounts(data):\n",
    "    \"\"\"Given some data with an account_key field, removes any records corresponding to Udacity test accounts\"\"\"\n",
    "    non_udacity_data = []\n",
    "    \n",
    "    for data_point in data:\n",
    "        if data_point['account_key'] not in udacity_test_accounts:\n",
    "            non_udacity_data.append(data_point)\n",
    "            \n",
    "    return non_udacity_data"
   ]
  },
  {
   "cell_type": "code",
   "execution_count": 26,
   "metadata": {},
   "outputs": [
    {
     "name": "stdout",
     "output_type": "stream",
     "text": [
      "1622\n",
      "135656\n",
      "3634\n"
     ]
    }
   ],
   "source": [
    "# Remove Udacity test accounts from all three tables\n",
    "non_udacity_enrollments = remove_udacity_accounts(enrollments)\n",
    "non_udacity_engagement = remove_udacity_accounts(daily_engagement)\n",
    "non_udacity_submissions = remove_udacity_accounts(project_submissions)\n",
    "\n",
    "print (len(non_udacity_enrollments))\n",
    "print (len(non_udacity_engagement))\n",
    "print (len(non_udacity_submissions))"
   ]
  },
  {
   "cell_type": "markdown",
   "metadata": {},
   "source": [
    "\n",
    "# Investigating the following question:  \"How do numbers in the daily engagement table differ for students who pass the first project?\"\n",
    "\n",
    "Variables immediately clear which may need to be controlled or they could hinder this question:\n",
    "\n",
    "- The data_sets includes data from after the first project submission.\n",
    "- This compares data from different lengths of time i.e. could be comparing data of people over one month vs another over two. This is inconsistent.\n",
    "- Includes engagement in courses not related to the first project\n",
    "\n",
    "After looking at potential problem variables in the data, I am refining the question to be limited to the following scope: \"Only include engagement from the first week and exclude students who cancelled within the first week (free-trial cancellers)\""
   ]
  },
  {
   "cell_type": "markdown",
   "metadata": {},
   "source": [
    "## Creating a dictionary to control for the variables above.\n",
    "\n",
    "This will then be to filter the three data sets in order to enable me to answer this question."
   ]
  },
  {
   "cell_type": "code",
   "execution_count": 29,
   "metadata": {},
   "outputs": [
    {
     "name": "stdout",
     "output_type": "stream",
     "text": [
      "995\n"
     ]
    }
   ],
   "source": [
    "## ToDo: Create a dictionary named paid_students containing all students who either\n",
    "## haven't canceled yet or who remained enrolled for more than 7 days. \n",
    "\n",
    "paid_students = dict()\n",
    "for enrollment in non_udacity_enrollments:\n",
    "    if enrollment['days_to_cancel'] == None or enrollment['days_to_cancel'] > 7:\n",
    "        \n",
    "        account_key = enrollment['account_key']\n",
    "        enroll_date = enrollment['join_date']\n",
    "        \n",
    "         #To ensure we have the most recent enrollment date (students can enroll multiple times), see below code\n",
    "        \n",
    "        if account_key not in paid_students \\\n",
    "        or enroll_date > paid_students[account_key]:\n",
    "        #need the first half as would result in error with just the 2nd bit (IF one of these statements is true)\n",
    "            paid_students[account_key] = enrollment['join_date'] \n",
    "            #above line creates new key and assigns value if account key doesn't exist\n",
    "            #or over writes existing value, if account key does exist\n",
    "        \n",
    "print(len(paid_students))"
   ]
  },
  {
   "cell_type": "code",
   "execution_count": 30,
   "metadata": {},
   "outputs": [],
   "source": [
    "def remove_free_trial_cancels(data):\n",
    "    new_data = []\n",
    "    for data_point in data:\n",
    "        if data_point['account_key'] in paid_students:\n",
    "            new_data.append(data_point)\n",
    "    return new_data\n",
    "                      "
   ]
  },
  {
   "cell_type": "code",
   "execution_count": 94,
   "metadata": {
    "scrolled": true
   },
   "outputs": [],
   "source": [
    "paid_enrollments = remove_free_trial_cancels(non_udacity_enrollments)\n",
    "paid_engagement = remove_free_trial_cancels(non_udacity_engagement)\n",
    "paid_submissions = remove_free_trial_cancels(non_udacity_submissions)"
   ]
  },
  {
   "cell_type": "markdown",
   "metadata": {},
   "source": [
    "Below I am adding a new field to the data called 'has_visited_today'. I believe this is a better metric for student than 'num_courses_visited'."
   ]
  },
  {
   "cell_type": "code",
   "execution_count": 92,
   "metadata": {},
   "outputs": [],
   "source": [
    "for engagement_record in paid_engagement:\n",
    "    \n",
    "    if engagement_record['num_courses_visited'] > 0:\n",
    "        engagement_record['has_visited_today'] = 1\n",
    "    else:\n",
    "        engagement_record['has_visited_today'] = 0"
   ]
  },
  {
   "cell_type": "code",
   "execution_count": 93,
   "metadata": {},
   "outputs": [
    {
     "name": "stdout",
     "output_type": "stream",
     "text": [
      "1293\n",
      "134549\n",
      "3618\n"
     ]
    }
   ],
   "source": [
    "print(len(paid_enrollments))\n",
    "print(len(paid_engagement))\n",
    "print(len(paid_submissions))"
   ]
  },
  {
   "cell_type": "markdown",
   "metadata": {},
   "source": [
    "### Getting Data from First Week"
   ]
  },
  {
   "cell_type": "code",
   "execution_count": 28,
   "metadata": {},
   "outputs": [],
   "source": [
    "def within_one_week(join_date, engagement_date):\n",
    "    \n",
    "    \"\"\"Takes a student's join date and the date of a specific engagement record, and returns True \n",
    "    if that engagement record happened within one week of the student joining and the engagement \n",
    "    is after the enrollment.\"\"\"\n",
    "    \n",
    "    time_delta = engagement_date - join_date\n",
    "    return time_delta.days < 7 and time_delta.days >= 0\n",
    "    #Second requirement on the return ensures that the time_delta is positive i.e. that it happens \n",
    "    #after the enrollment. "
   ]
  },
  {
   "cell_type": "markdown",
   "metadata": {},
   "source": [
    "### Putting one week and non-free trial cancellers together\n",
    "In order to do this I will create a list of rows from the engagement table including only rows where the student is one of the paid students, and the date is within one week of the student's join date.\n",
    "\n"
   ]
  },
  {
   "cell_type": "code",
   "execution_count": 32,
   "metadata": {},
   "outputs": [
    {
     "data": {
      "text/plain": [
       "6919"
      ]
     },
     "execution_count": 32,
     "metadata": {},
     "output_type": "execute_result"
    }
   ],
   "source": [
    "paid_engagement_in_first_week = []\n",
    "for engagement_record in paid_engagement:\n",
    "\n",
    "    account_key = engagement_record['account_key']\n",
    "    join_date = paid_students[account_key] #looking up the students join date using the paid_students dictionary\n",
    "    #where keys are account keys and values are join dates\n",
    "    \n",
    "    if engagement_record['account_key'] in paid_students and \\\n",
    "    within_one_week(join_date, engagement_record['utc_date']):\n",
    "\n",
    "        paid_engagement_in_first_week.append(engagement_record)\n",
    "    \n",
    "len(paid_engagement_in_first_week)"
   ]
  },
  {
   "cell_type": "markdown",
   "metadata": {},
   "source": [
    "## Exploring Student Engagement\n",
    "\n",
    "In order to get an understanding of student engagement, I want to compare how for each student the following data varies:\n",
    "\n",
    "- total minutes spent engaged by each student in first week\n",
    "- total lessons completed by each student in first week\n",
    "- amount of visits in first week\n",
    "\n",
    "To do this I group the data records by the account name, then find the sum of eachof the above variables and then review descriptive statistics to describe the date (mean, st. dev, max, min)"
   ]
  },
  {
   "cell_type": "code",
   "execution_count": 77,
   "metadata": {},
   "outputs": [],
   "source": [
    "from collections import defaultdict\n",
    "\n",
    "def group_data(data, key_name):\n",
    "    \"\"\"This function groups data by a key name\n",
    "    1st arg: a data set that needs grouping in the form of a dictionary\n",
    "    2nd arg: the key name (column) to be grouped\"\"\"\n",
    "\n",
    "    grouped_data = defaultdict(list)\n",
    "    for record in data:\n",
    "        key = record[key_name]\n",
    "        \n",
    "        grouped_data[key].append(record)\n",
    "    \n",
    "    return grouped_data\n",
    "        #(before fullstop) if existing looks up to the account_key, if non-exisitng, new key is created (with the account key)\n",
    "        # (after fulll stop) adds the value to the relevant account key\n",
    "        \n"
   ]
  },
  {
   "cell_type": "code",
   "execution_count": 84,
   "metadata": {},
   "outputs": [],
   "source": [
    "# ToDo: Create a dictionary of engagement grouped by student.\n",
    "\n",
    "grouped_engagements_by_account = group_data(paid_engagement_in_first_week, 'account_key')\n",
    "# The keys are account keys, and the values are lists of engagement records (inc account_key field).\n",
    "\n",
    "#grouped_engagements_by_account['1']"
   ]
  },
  {
   "cell_type": "code",
   "execution_count": 36,
   "metadata": {},
   "outputs": [],
   "source": [
    "def sum_grouped_items(grouped_data, field_name):\n",
    "    \"\"\" Creates a dictionary with the sum total of a metric related to each group (e.g. student).\n",
    "    The keys are account keys, and the values are numbers (e.g. total minutes)\n",
    "    \n",
    "    1st arg: A data dictionary grouped according to one field (the key)\n",
    "    2nd arg: The field (column) in the values to sum \"\"\"\n",
    "    \n",
    "    summed_data = {}\n",
    "    \n",
    "    for account_key, data_points in grouped_data.items():\n",
    "        summed_value = 0\n",
    "        \n",
    "        #Iterate through the data_points within the group and sum them\n",
    "        for data_point in data_points:\n",
    "            summed_value += data_point[field_name]\n",
    "            \n",
    "        summed_data[account_key] = summed_value #assign summed value to key\n",
    "    \n",
    "    return summed_data"
   ]
  },
  {
   "cell_type": "markdown",
   "metadata": {},
   "source": [
    "The describe_data function below is built to display several descriptive statistics about a distribution."
   ]
  },
  {
   "cell_type": "code",
   "execution_count": 85,
   "metadata": {},
   "outputs": [],
   "source": [
    "summed_minutes_acc = sum_grouped_items(grouped_engagements_by_account, 'total_minutes_visited')\n",
    "summed_lessons_acc = sum_grouped_items(grouped_engagements_by_account, 'lessons_completed')\n",
    "summed_visits_acc = sum_grouped_items(grouped_engagements_by_account, 'has_visited_today')"
   ]
  },
  {
   "cell_type": "code",
   "execution_count": 86,
   "metadata": {},
   "outputs": [
    {
     "name": "stdout",
     "output_type": "stream",
     "text": [
      "Populating the interactive namespace from numpy and matplotlib\n"
     ]
    }
   ],
   "source": [
    "import seaborn as sns\n",
    "%pylab inline\n",
    "import matplotlib.pyplot as plt\n",
    "import numpy as np\n",
    "\n",
    "def describe_data(summed_data_dict):\n",
    "    \"\"\"Displays mean, st. dev, min & max for a data distribution\n",
    "    \n",
    "    Takes a 1D dictionary as an argument\"\"\"\n",
    "    \n",
    "    summed_data_values = list(summed_data_dict.values())\n",
    "\n",
    "    print ('Mean:', np.mean(summed_data_values))\n",
    "    print ('Standard deviation:', np.std(summed_data_values))\n",
    "    print ('Minimum:', np.min(summed_data_values))\n",
    "    print ('Maximum:', np.max(summed_data_values))\n",
    "    plt.hist(summed_data_values, bins=7)\n",
    "    "
   ]
  },
  {
   "cell_type": "code",
   "execution_count": 87,
   "metadata": {},
   "outputs": [
    {
     "name": "stdout",
     "output_type": "stream",
     "text": [
      "Mean: 306.70832675342825\n",
      "Standard deviation: 412.99693340852957\n",
      "Minimum: 0.0\n",
      "Maximum: 3564.7332644989997\n"
     ]
    },
    {
     "data": {
      "image/png": "[encoded data removed]",
      "text/plain": [
       "<Figure size 432x288 with 1 Axes>"
      ]
     },
     "metadata": {
      "needs_background": "light"
     },
     "output_type": "display_data"
    }
   ],
   "source": [
    "describe_data(summed_minutes_acc)"
   ]
  },
  {
   "cell_type": "markdown",
   "metadata": {},
   "source": [
    "### Lessons Completed in First Week"
   ]
  },
  {
   "cell_type": "code",
   "execution_count": 88,
   "metadata": {
    "scrolled": true
   },
   "outputs": [
    {
     "name": "stdout",
     "output_type": "stream",
     "text": [
      "Mean: 1.636180904522613\n",
      "Standard deviation: 3.002561299829423\n",
      "Minimum: 0\n",
      "Maximum: 36\n"
     ]
    },
    {
     "data": {
      "image/png": "[encoded data removed]",
      "text/plain": [
       "<Figure size 432x288 with 1 Axes>"
      ]
     },
     "metadata": {
      "needs_background": "light"
     },
     "output_type": "display_data"
    }
   ],
   "source": [
    "describe_data(summed_lessons_acc)"
   ]
  },
  {
   "cell_type": "markdown",
   "metadata": {},
   "source": [
    "### Number of Visits in First Week"
   ]
  },
  {
   "cell_type": "code",
   "execution_count": 96,
   "metadata": {},
   "outputs": [
    {
     "name": "stdout",
     "output_type": "stream",
     "text": [
      "Mean: 2.8673366834170855\n",
      "Standard deviation: 2.2551980029196814\n",
      "Minimum: 0\n",
      "Maximum: 7\n"
     ]
    },
    {
     "data": {
      "image/png": "[encoded data removed]",
      "text/plain": [
       "<Figure size 432x288 with 1 Axes>"
      ]
     },
     "metadata": {
      "needs_background": "light"
     },
     "output_type": "display_data"
    }
   ],
   "source": [
    "#ToDo: Call sum_grouped_items on the has_visited field\n",
    "summed_days_visited = sum_grouped_items(grouped_engagements_by_account, 'has_visited_today')\n",
    "describe_data(summed_days_visited)"
   ]
  },
  {
   "cell_type": "markdown",
   "metadata": {},
   "source": [
    "## Splitting out Passing Students\n",
    "\n",
    "In order to compare the two types of students from my question, (i.e.\"How donumbers in the daily engagement table differ for students who pass the first project?\") i'm going to separate  students who pass the subway project  and those who don't. \n",
    "\n",
    "At the time of data collection, The subway project was the most common first project."
   ]
  },
  {
   "cell_type": "code",
   "execution_count": 97,
   "metadata": {},
   "outputs": [
    {
     "data": {
      "text/plain": [
       "OrderedDict([('account_key', '429'),\n",
       "             ('status', 'canceled'),\n",
       "             ('join_date', datetime.datetime(2014, 11, 10, 0, 0)),\n",
       "             ('cancel_date', datetime.datetime(2015, 3, 10, 0, 0)),\n",
       "             ('days_to_cancel', 120),\n",
       "             ('is_udacity', False),\n",
       "             ('is_canceled', True)])"
      ]
     },
     "execution_count": 97,
     "metadata": {},
     "output_type": "execute_result"
    }
   ],
   "source": [
    "paid_enrollments[0]"
   ]
  },
  {
   "cell_type": "code",
   "execution_count": 98,
   "metadata": {},
   "outputs": [
    {
     "data": {
      "text/plain": [
       "OrderedDict([('utc_date', datetime.datetime(2015, 1, 9, 0, 0)),\n",
       "             ('num_courses_visited', 1),\n",
       "             ('total_minutes_visited', 11.6793745),\n",
       "             ('lessons_completed', 0),\n",
       "             ('projects_completed', 0),\n",
       "             ('account_key', '0'),\n",
       "             ('has_visited_today', 1)])"
      ]
     },
     "execution_count": 98,
     "metadata": {},
     "output_type": "execute_result"
    }
   ],
   "source": [
    "paid_engagement[0]"
   ]
  },
  {
   "cell_type": "code",
   "execution_count": 99,
   "metadata": {},
   "outputs": [
    {
     "data": {
      "text/plain": [
       "OrderedDict([('creation_date', datetime.datetime(2015, 1, 14, 0, 0)),\n",
       "             ('completion_date', datetime.datetime(2015, 1, 16, 0, 0)),\n",
       "             ('assigned_rating', 'UNGRADED'),\n",
       "             ('account_key', '256'),\n",
       "             ('lesson_key', '3176718735'),\n",
       "             ('processing_state', 'EVALUATED')])"
      ]
     },
     "execution_count": 99,
     "metadata": {},
     "output_type": "execute_result"
    }
   ],
   "source": [
    "paid_submissions[0]"
   ]
  },
  {
   "cell_type": "code",
   "execution_count": 100,
   "metadata": {},
   "outputs": [],
   "source": [
    "######################################\n",
    "#                 11                 #\n",
    "######################################\n",
    "\n",
    "## ToDo: Create two lists of engagement data for paid students in the first week.\n",
    "## The first list to contain data for students who eventually pass the subway project and\n",
    "## The second list to contain data for students who do not.\n",
    "\n",
    "#ToDo: Form data list/dictionary (passed_submissions) for submissions that have an assigned rating of passed and\n",
    "#have a lesson key of '746169184', '3176718735'\n",
    "\n",
    "subway_project_lesson_keys = ['746169184', '3176718735']\n",
    "\n",
    "passed_submissions = set()\n",
    "\n",
    "for submission in paid_submissions:\n",
    "    int(submission['account_key'])\n",
    "    if (submission['assigned_rating'] == 'PASSED' or submission['assigned_rating'] == 'DISTINCTION') and \\\n",
    "    submission['lesson_key'] in subway_project_lesson_keys:\n",
    "        passed_submissions.add(submission['account_key'])\n"
   ]
  },
  {
   "cell_type": "code",
   "execution_count": 101,
   "metadata": {},
   "outputs": [
    {
     "name": "stdout",
     "output_type": "stream",
     "text": [
      "6919\n",
      "4527\n",
      "2392\n"
     ]
    }
   ],
   "source": [
    "#ToDo: Loop through paid engagement in first week - if the account key is present in passed_submissions, \n",
    "#add to one list, else add to another\n",
    "\n",
    "passing_engagement = []\n",
    "non_passing_engagement = []\n",
    "\n",
    "for engagement_record in paid_engagement_in_first_week:\n",
    "    if engagement_record['account_key'] in passed_submissions:\n",
    "        passing_engagement.append(engagement_record)\n",
    "    else:\n",
    "        non_passing_engagement.append(engagement_record)\n",
    "        \n",
    "print(len(paid_engagement_in_first_week))\n",
    "print(len(passing_engagement))\n",
    "print(len(non_passing_engagement))"
   ]
  },
  {
   "cell_type": "markdown",
   "metadata": {},
   "source": [
    "## Comparing the Two Student Groups\n",
    "\n",
    "Here I  see how certain metrics differ for students who pass the subway project vs. students who don't. "
   ]
  },
  {
   "cell_type": "markdown",
   "metadata": {},
   "source": [
    "### Total Minutes Visited"
   ]
  },
  {
   "cell_type": "code",
   "execution_count": 109,
   "metadata": {},
   "outputs": [
    {
     "name": "stdout",
     "output_type": "stream",
     "text": [
      "Mean: 394.58604648350865\n",
      "Standard deviation: 448.4995193265521\n",
      "Minimum: 0.0\n",
      "Maximum: 3564.7332644989997\n"
     ]
    },
    {
     "data": {
      "text/plain": [
       "Text(0.5, 1.0, 'Frequency of students vs the amount of time they spend in their first week \\n (students who eventually pass their first project)')"
      ]
     },
     "execution_count": 109,
     "metadata": {},
     "output_type": "execute_result"
    },
    {
     "data": {
      "image/png": "[encoded data removed]",
      "text/plain": [
       "<Figure size 432x288 with 1 Axes>"
      ]
     },
     "metadata": {
      "needs_background": "light"
     },
     "output_type": "display_data"
    }
   ],
   "source": [
    "grouped_passing_engagement_acc = group_data(passing_engagement, 'account_key')\n",
    "summed_passing_engagement_min = sum_grouped_items(grouped_passing_engagement_acc, 'total_minutes_visited')\n",
    "describe_data(summed_passing_engagement_min)\n",
    "plt.xlabel('Minutes spent engaged in first week')\n",
    "plt.ylabel('Frequency')\n",
    "plt.title('Frequency of students vs the amount of time they spend in their first week \\n (students who eventually pass their first project)')"
   ]
  },
  {
   "cell_type": "code",
   "execution_count": 110,
   "metadata": {},
   "outputs": [
    {
     "name": "stdout",
     "output_type": "stream",
     "text": [
      "Mean: 143.32647426675584\n",
      "Standard deviation: 269.5386190114951\n",
      "Minimum: 0.0\n",
      "Maximum: 1768.5227493319999\n"
     ]
    },
    {
     "data": {
      "text/plain": [
       "Text(0.5, 1.0, 'Frequency of students vs the amount of time they spend in their first week \\n (students who never pass a project)')"
      ]
     },
     "execution_count": 110,
     "metadata": {},
     "output_type": "execute_result"
    },
    {
     "data": {
      "image/png": "[encoded data removed]",
      "text/plain": [
       "<Figure size 432x288 with 1 Axes>"
      ]
     },
     "metadata": {
      "needs_background": "light"
     },
     "output_type": "display_data"
    }
   ],
   "source": [
    "grouped_non_passing_engagement_acc = group_data(non_passing_engagement, 'account_key')\n",
    "summed_non_passing_engagement_min = sum_grouped_items(grouped_non_passing_engagement_acc, 'total_minutes_visited')\n",
    "describe_data(summed_non_passing_engagement_min)\n",
    "plt.xlabel('Days')\n",
    "plt.ylabel('Frequency')### Total Minutes Visited\n",
    "plt.title('Frequency of students vs the amount of time they spend in their first week \\n (students who never pass a project)')"
   ]
  },
  {
   "cell_type": "markdown",
   "metadata": {},
   "source": [
    "### Total Lessons Completed"
   ]
  },
  {
   "cell_type": "code",
   "execution_count": 111,
   "metadata": {},
   "outputs": [
    {
     "name": "stdout",
     "output_type": "stream",
     "text": [
      "Mean: 2.052550231839258\n",
      "Standard deviation: 3.1422270555779344\n",
      "Minimum: 0\n",
      "Maximum: 36\n"
     ]
    },
    {
     "data": {
      "text/plain": [
       "Text(0.5, 1.0, 'Frequency of students vs lessons completed in first week \\n (students who eventually pass their first project)')"
      ]
     },
     "execution_count": 111,
     "metadata": {},
     "output_type": "execute_result"
    },
    {
     "data": {
      "image/png": "[encoded data removed]",
      "text/plain": [
       "<Figure size 432x288 with 1 Axes>"
      ]
     },
     "metadata": {
      "needs_background": "light"
     },
     "output_type": "display_data"
    }
   ],
   "source": [
    "summed_passing_engagement_lessons = sum_grouped_items(grouped_passing_engagement_acc, 'lessons_completed')\n",
    "describe_data(summed_passing_engagement_lessons)\n",
    "plt.xlabel('Lessons Completed in First Week')\n",
    "plt.ylabel('Frequency')\n",
    "plt.title('Frequency of students vs lessons completed in first week \\n (students who eventually pass their first project)')"
   ]
  },
  {
   "cell_type": "code",
   "execution_count": 112,
   "metadata": {
    "scrolled": true
   },
   "outputs": [
    {
     "name": "stdout",
     "output_type": "stream",
     "text": [
      "Mean: 0.8620689655172413\n",
      "Standard deviation: 2.5491599418312028\n",
      "Minimum: 0\n",
      "Maximum: 27\n"
     ]
    },
    {
     "data": {
      "text/plain": [
       "Text(0.5, 1.0, 'Frequency of students vs lessons completed in first week \\n (students who never pass a project)')"
      ]
     },
     "execution_count": 112,
     "metadata": {},
     "output_type": "execute_result"
    },
    {
     "data": {
      "image/png": "[encoded data removed]",
      "text/plain": [
       "<Figure size 432x288 with 1 Axes>"
      ]
     },
     "metadata": {
      "needs_background": "light"
     },
     "output_type": "display_data"
    }
   ],
   "source": [
    "summed_non_passing_engagement_lessons = sum_grouped_items(grouped_non_passing_engagement_acc, 'lessons_completed')\n",
    "describe_data(summed_non_passing_engagement_lessons)\n",
    "plt.xlabel('Lessons Completed in First Week')\n",
    "plt.ylabel('Frequency')\n",
    "plt.title('Frequency of students vs lessons completed in first week \\n (students who never pass a project)')"
   ]
  },
  {
   "cell_type": "code",
   "execution_count": 113,
   "metadata": {},
   "outputs": [
    {
     "name": "stdout",
     "output_type": "stream",
     "text": [
      "Mean: 3.384853168469861\n",
      "Standard deviation: 2.2588214709184595\n",
      "Minimum: 0\n",
      "Maximum: 7\n"
     ]
    },
    {
     "data": {
      "text/plain": [
       "Text(0.5, 1.0, 'Number of student visits in the first week for students who eventually pass their first project')"
      ]
     },
     "execution_count": 113,
     "metadata": {},
     "output_type": "execute_result"
    },
    {
     "data": {
      "image/png": "[encoded data removed]",
      "text/plain": [
       "<Figure size 432x288 with 1 Axes>"
      ]
     },
     "metadata": {
      "needs_background": "light"
     },
     "output_type": "display_data"
    }
   ],
   "source": [
    "summed_passing_engagement_visits = sum_grouped_items(grouped_passing_engagement_acc, 'has_visited_today')\n",
    "describe_data(summed_passing_engagement_visits)\n",
    "plt.xlabel('Days')\n",
    "plt.ylabel('Frequency')\n",
    "plt.title('Number of student visits in the first week for students who eventually pass their first project')"
   ]
  },
  {
   "cell_type": "markdown",
   "metadata": {},
   "source": [
    "Passing students are equally likely to visit each day in their first week. They are slightly more likely to visit every day than any other amount of days\n",
    "\n",
    "For non_passing students (Students who haven't yet passed their first engagement), the trend shows less and less students are in each bucket as the bucket corresponds to more days."
   ]
  },
  {
   "cell_type": "code",
   "execution_count": 114,
   "metadata": {},
   "outputs": [
    {
     "name": "stdout",
     "output_type": "stream",
     "text": [
      "Mean: 1.9051724137931034\n",
      "Standard deviation: 1.9057314413619046\n",
      "Minimum: 0\n",
      "Maximum: 7\n"
     ]
    },
    {
     "data": {
      "text/plain": [
       "Text(0.5, 1.0, 'Number of student visits in the first week for students who never pass a first project')"
      ]
     },
     "execution_count": 114,
     "metadata": {},
     "output_type": "execute_result"
    },
    {
     "data": {
      "image/png": "[encoded data removed]",
      "text/plain": [
       "<Figure size 432x288 with 1 Axes>"
      ]
     },
     "metadata": {
      "needs_background": "light"
     },
     "output_type": "display_data"
    }
   ],
   "source": [
    "summed_non_passing_engagement_visits = sum_grouped_items(grouped_non_passing_engagement_acc, 'has_visited_today')\n",
    "describe_data(summed_non_passing_engagement_visits)\n",
    "plt.xlabel('Days')\n",
    "plt.ylabel('Frequency')\n",
    "plt.title('Number of student visits in the first week for students who never pass a first project')"
   ]
  },
  {
   "cell_type": "markdown",
   "metadata": {},
   "source": [
    "## Reviewing a new metric\n",
    "\n",
    "I hypothesize that those people who visit less courses per day are more likely to pass their first project (i.e. they have more focus)"
   ]
  },
  {
   "cell_type": "code",
   "execution_count": 115,
   "metadata": {},
   "outputs": [],
   "source": [
    "#To figure out whether my hypothesis is correct,\n",
    "\n",
    "#ToDo: Group num courses visited by student\n",
    "#Data is already grouped  - grouped_passing_engagement_acc and grouped_non_passing_engagement_acc\n",
    "\n",
    "#ToDo: Sum num courses per student\n",
    "summed_passing_engagement_course = sum_grouped_items(grouped_passing_engagement_acc, 'num_courses_visited')\n",
    "summed_non_passing_engagement_course = sum_grouped_items(grouped_non_passing_engagement_acc, 'num_courses_visited')\n",
    "\n",
    "#ToDo: Find mean num courses per student and deviations to see if they are significantly different"
   ]
  },
  {
   "cell_type": "code",
   "execution_count": 116,
   "metadata": {},
   "outputs": [
    {
     "name": "stdout",
     "output_type": "stream",
     "text": [
      "Mean: 4.726429675425039\n",
      "Standard deviation: 3.7002397793039687\n",
      "Minimum: 0\n",
      "Maximum: 25\n"
     ]
    },
    {
     "data": {
      "image/png": "[encoded data removed]",
      "text/plain": [
       "<Figure size 432x288 with 1 Axes>"
      ]
     },
     "metadata": {
      "needs_background": "light"
     },
     "output_type": "display_data"
    }
   ],
   "source": [
    "describe_data(summed_passing_engagement_course)"
   ]
  },
  {
   "cell_type": "code",
   "execution_count": 117,
   "metadata": {
    "scrolled": true
   },
   "outputs": [
    {
     "name": "stdout",
     "output_type": "stream",
     "text": [
      "Mean: 2.589080459770115\n",
      "Standard deviation: 2.906709690253102\n",
      "Minimum: 0\n",
      "Maximum: 18\n"
     ]
    },
    {
     "data": {
      "image/png": "[encoded data removed]",
      "text/plain": [
       "<Figure size 432x288 with 1 Axes>"
      ]
     },
     "metadata": {
      "needs_background": "light"
     },
     "output_type": "display_data"
    }
   ],
   "source": [
    "describe_data(summed_non_passing_engagement_course)"
   ]
  },
  {
   "cell_type": "markdown",
   "metadata": {},
   "source": [
    "My hypothesis was incorrect. It appears students who go on to pass their first engagement are actually more likely to try more courses in their first week."
   ]
  }
 ],
 "metadata": {
  "kernelspec": {
   "display_name": "Python 3",
   "language": "python",
   "name": "python3"
  },
  "language_info": {
   "codemirror_mode": {
    "name": "ipython",
    "version": 3
   },
   "file_extension": ".py",
   "mimetype": "text/x-python",
   "name": "python",
   "nbconvert_exporter": "python",
   "pygments_lexer": "ipython3",
   "version": "3.7.0"
  }
 },
 "nbformat": 4,
 "nbformat_minor": 1
}
